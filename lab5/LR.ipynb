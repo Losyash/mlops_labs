{
  "nbformat": 4,
  "nbformat_minor": 0,
  "metadata": {
    "colab": {
      "provenance": []
    },
    "kernelspec": {
      "name": "python3",
      "display_name": "Python 3"
    },
    "language_info": {
      "name": "python"
    }
  },
  "cells": [
    {
      "cell_type": "markdown",
      "source": [
        "## Импорт библиотек"
      ],
      "metadata": {
        "id": "ydItZn_tsIT5"
      }
    },
    {
      "cell_type": "code",
      "execution_count": 226,
      "metadata": {
        "id": "KFfPH0ONrA-Q"
      },
      "outputs": [],
      "source": [
        "import numpy as np\n",
        "from random import randrange\n",
        "import csv\n",
        "\n",
        "import matplotlib.pyplot as plt\n",
        "from sklearn.linear_model import LinearRegression"
      ]
    },
    {
      "cell_type": "markdown",
      "source": [
        "## Создание \"качественных\" наборов данных"
      ],
      "metadata": {
        "id": "7aAybPGasO5B"
      }
    },
    {
      "cell_type": "code",
      "source": [
        "def create_dataset(seed=42, noise=False):\n",
        "  np.random.seed(seed)\n",
        "\n",
        "  x = np.linspace(0, 10, 100)\n",
        "  y = x + np.random.random(100) * 2 - 1\n",
        "\n",
        "  if noise:\n",
        "      y[25:45] *= 2\n",
        "\n",
        "  return x, y\n",
        "\n",
        "\n",
        "x1, y1 = create_dataset()\n",
        "x2, y2 = create_dataset()\n",
        "x3, y3 = create_dataset()"
      ],
      "metadata": {
        "id": "LJWyJ9o9rLlh"
      },
      "execution_count": 227,
      "outputs": []
    },
    {
      "cell_type": "markdown",
      "source": [
        "## Создание набора данных с шумом"
      ],
      "metadata": {
        "id": "dvTCVmO1wMWC"
      }
    },
    {
      "cell_type": "code",
      "source": [
        "x4, y4 = create_dataset(noise=True)"
      ],
      "metadata": {
        "id": "KzU8G9eHwM1h"
      },
      "execution_count": 228,
      "outputs": []
    },
    {
      "cell_type": "markdown",
      "source": [
        "# Обучение модели на \"качественном\" наборе данных"
      ],
      "metadata": {
        "id": "4ucRkhWPtPpJ"
      }
    },
    {
      "cell_type": "code",
      "source": [
        "X_train_quality = x2.reshape(-1, 1)\n",
        "Y_train_quality = y2\n",
        "\n",
        "model_quality = LinearRegression()\n",
        "model_quality.fit(X_train_quality, Y_train_quality)\n",
        "\n",
        "Y_pred_quality = model_quality.predict(X_train_quality)"
      ],
      "metadata": {
        "id": "MLJfRco6sDy6"
      },
      "execution_count": 229,
      "outputs": []
    },
    {
      "cell_type": "code",
      "source": [
        "with open(\"model_quality.csv\", \"w+\", newline='') as f:\n",
        "    writer = csv.writer(f)\n",
        "    writer.writerow([model_quality.coef_[0], model_quality.intercept_])"
      ],
      "metadata": {
        "id": "DZT-F0f4yGyy"
      },
      "execution_count": 230,
      "outputs": []
    },
    {
      "cell_type": "code",
      "source": [
        "plt.scatter(X_train_quality, Y_train_quality)\n",
        "plt.plot(X_train_quality, Y_pred_quality, color='red', linewidth=1)\n",
        "plt.show()"
      ],
      "metadata": {
        "colab": {
          "base_uri": "https://localhost:8080/",
          "height": 430
        },
        "id": "DE3wO9GcurWy",
        "outputId": "1d36873d-7cd8-4046-ddf7-199226710343"
      },
      "execution_count": 231,
      "outputs": [
        {
          "output_type": "display_data",
          "data": {
            "text/plain": [
              "<Figure size 640x480 with 1 Axes>"
            ],
            "image/png": "[encoded data removed]"
          },
          "metadata": {}
        }
      ]
    },
    {
      "cell_type": "code",
      "source": [
        "print(model_quality.coef_[0], model_quality.intercept_)"
      ],
      "metadata": {
        "colab": {
          "base_uri": "https://localhost:8080/"
        },
        "id": "49MEg-X42Vvi",
        "outputId": "7d337741-f8e0-440b-e95b-a99b8f69405b"
      },
      "execution_count": 232,
      "outputs": [
        {
          "output_type": "stream",
          "name": "stdout",
          "text": [
            "1.0040984640489807 -0.08013083348848582\n"
          ]
        }
      ]
    },
    {
      "cell_type": "markdown",
      "source": [
        "# Обучение модели на наборе данных с шумом"
      ],
      "metadata": {
        "id": "VLZ6nomvxIYZ"
      }
    },
    {
      "cell_type": "code",
      "source": [
        "X_train_noise = x4.reshape(-1, 1)\n",
        "Y_train_noise = y4\n",
        "\n",
        "model_noise = LinearRegression()\n",
        "model_noise.fit(X_train_noise, Y_train_noise)\n",
        "\n",
        "Y_pred_noise = model_noise.predict(X_train_noise)"
      ],
      "metadata": {
        "id": "MWwMIXfkrWub"
      },
      "execution_count": 233,
      "outputs": []
    },
    {
      "cell_type": "code",
      "source": [
        "with open(\"model_noise.csv\", \"w+\", newline='') as f:\n",
        "    writer = csv.writer(f)\n",
        "    writer.writerow([model_noise.coef_[0], model_noise.intercept_])"
      ],
      "metadata": {
        "id": "92gxsdInyfFR"
      },
      "execution_count": 234,
      "outputs": []
    },
    {
      "cell_type": "code",
      "source": [
        "plt.scatter(X_train_noise, Y_train_noise)\n",
        "plt.plot(X_train_noise, Y_pred_noise, color='red', linewidth=1)\n",
        "plt.show()"
      ],
      "metadata": {
        "colab": {
          "base_uri": "https://localhost:8080/",
          "height": 430
        },
        "id": "-FV1Qphnr2up",
        "outputId": "c807a232-a193-42ef-f0d8-6e0a37cede78"
      },
      "execution_count": 235,
      "outputs": [
        {
          "output_type": "display_data",
          "data": {
            "text/plain": [
              "<Figure size 640x480 with 1 Axes>"
            ],
            "image/png": "[encoded data removed]"
          },
          "metadata": {}
        }
      ]
    },
    {
      "cell_type": "code",
      "source": [
        "print(model_noise.coef_[0], model_noise.intercept_)"
      ],
      "metadata": {
        "colab": {
          "base_uri": "https://localhost:8080/"
        },
        "id": "aSltwEwX2Z6a",
        "outputId": "784b3e05-e7eb-42c7-b65b-b030d5fbbbbb"
      },
      "execution_count": 236,
      "outputs": [
        {
          "output_type": "stream",
          "name": "stdout",
          "text": [
            "0.8906094750144905 1.1652910107286036\n"
          ]
        }
      ]
    },
    {
      "cell_type": "markdown",
      "source": [
        "# Тестирование кода"
      ],
      "metadata": {
        "id": "zi1PdmqM7DGD"
      }
    },
    {
      "cell_type": "code",
      "source": [
        "%%writefile test_models.py\n",
        "\n",
        "import csv\n",
        "\n",
        "def test_first_quality_model():\n",
        "     expected_x = 1.0040984640489807 \n",
        "     expected_y = -0.08013083348848582\n",
        "\n",
        "     with open('model_quality.csv', newline='') as file:\n",
        "         reader = csv.reader(file)\n",
        "         row = next(reader)\n",
        "         x, y = map(float, row)\n",
        "\n",
        "     assert x == expected_x\n",
        "     assert y == expected_y\n",
        "\n",
        "def test_first_noise_model():\n",
        "     expected_x = 1.0040984640489807 \n",
        "     expected_y = -0.08013083348848582\n",
        "\n",
        "     with open('model_noise.csv', newline='') as file:\n",
        "         reader = csv.reader(file)\n",
        "         row = next(reader)\n",
        "         x, y = map(float, row)\n",
        "\n",
        "     assert x == expected_x\n",
        "     assert y == expected_y\n",
        "\n",
        "def test_second_quality_model():\n",
        "     expected_x = 0.8906094750144905 \n",
        "     expected_y = 1.1652910107286036\n",
        "\n",
        "     with open('model_quality.csv', newline='') as file:\n",
        "         reader = csv.reader(file)\n",
        "         row = next(reader)\n",
        "         x, y = map(float, row)\n",
        "\n",
        "     assert x == expected_x\n",
        "     assert y == expected_y\n",
        "\n",
        "def test_second_noise_model():\n",
        "     expected_x = 0.8906094750144905 \n",
        "     expected_y = 1.1652910107286036\n",
        "\n",
        "     with open('model_noise.csv', newline='') as file:\n",
        "         reader = csv.reader(file)\n",
        "         row = next(reader)\n",
        "         x, y = map(float, row)\n",
        "\n",
        "     assert x == expected_x\n",
        "     assert y == expected_y"
      ],
      "metadata": {
        "colab": {
          "base_uri": "https://localhost:8080/"
        },
        "id": "Gfwrc4VrzaOb",
        "outputId": "1e8ac7b9-bc82-415f-b1bf-c9706d2ed6e2"
      },
      "execution_count": 239,
      "outputs": [
        {
          "output_type": "stream",
          "name": "stdout",
          "text": [
            "Overwriting test_models.py\n"
          ]
        }
      ]
    },
    {
      "cell_type": "code",
      "source": [
        "!pytest"
      ],
      "metadata": {
        "colab": {
          "base_uri": "https://localhost:8080/"
        },
        "id": "R8fghUzYx4CS",
        "outputId": "ac2af0e7-45d2-4db8-f529-a69b7599326f"
      },
      "execution_count": 240,
      "outputs": [
        {
          "output_type": "stream",
          "name": "stdout",
          "text": [
            "\u001b[1m============================= test session starts ==============================\u001b[0m\n",
            "platform linux -- Python 3.10.12, pytest-7.2.2, pluggy-1.0.0\n",
            "rootdir: /content\n",
            "plugins: anyio-3.6.2\n",
            "\u001b[1mcollecting ... \u001b[0m\u001b[1m\rcollected 4 items                                                              \u001b[0m\n",
            "\n",
            "test_models.py \u001b[32m.\u001b[0m\u001b[31mF\u001b[0m\u001b[31mF\u001b[0m\u001b[32m.\u001b[0m\u001b[31m                                                      [100%]\u001b[0m\n",
            "\n",
            "=================================== FAILURES ===================================\n",
            "\u001b[31m\u001b[1m____________________________ test_first_noise_model ____________________________\u001b[0m\n",
            "\n",
            "    \u001b[94mdef\u001b[39;49;00m \u001b[92mtest_first_noise_model\u001b[39;49;00m():\u001b[90m\u001b[39;49;00m\n",
            "         expected_x = \u001b[94m1.0040984640489807\u001b[39;49;00m\u001b[90m\u001b[39;49;00m\n",
            "         expected_y = -\u001b[94m0.08013083348848582\u001b[39;49;00m\u001b[90m\u001b[39;49;00m\n",
            "    \u001b[90m\u001b[39;49;00m\n",
            "         \u001b[94mwith\u001b[39;49;00m \u001b[96mopen\u001b[39;49;00m(\u001b[33m'\u001b[39;49;00m\u001b[33mmodel_noise.csv\u001b[39;49;00m\u001b[33m'\u001b[39;49;00m, newline=\u001b[33m'\u001b[39;49;00m\u001b[33m'\u001b[39;49;00m) \u001b[94mas\u001b[39;49;00m file:\u001b[90m\u001b[39;49;00m\n",
            "             reader = csv.reader(file)\u001b[90m\u001b[39;49;00m\n",
            "             row = \u001b[96mnext\u001b[39;49;00m(reader)\u001b[90m\u001b[39;49;00m\n",
            "             x, y = \u001b[96mmap\u001b[39;49;00m(\u001b[96mfloat\u001b[39;49;00m, row)\u001b[90m\u001b[39;49;00m\n",
            "    \u001b[90m\u001b[39;49;00m\n",
            ">        \u001b[94massert\u001b[39;49;00m x == expected_x\u001b[90m\u001b[39;49;00m\n",
            "\u001b[1m\u001b[31mE        assert 0.8906094750144905 == 1.0040984640489807\u001b[0m\n",
            "\n",
            "\u001b[1m\u001b[31mtest_models.py\u001b[0m:24: AssertionError\n",
            "\u001b[31m\u001b[1m__________________________ test_second_quality_model ___________________________\u001b[0m\n",
            "\n",
            "    \u001b[94mdef\u001b[39;49;00m \u001b[92mtest_second_quality_model\u001b[39;49;00m():\u001b[90m\u001b[39;49;00m\n",
            "         expected_x = \u001b[94m0.8906094750144905\u001b[39;49;00m\u001b[90m\u001b[39;49;00m\n",
            "         expected_y = \u001b[94m1.1652910107286036\u001b[39;49;00m\u001b[90m\u001b[39;49;00m\n",
            "    \u001b[90m\u001b[39;49;00m\n",
            "         \u001b[94mwith\u001b[39;49;00m \u001b[96mopen\u001b[39;49;00m(\u001b[33m'\u001b[39;49;00m\u001b[33mmodel_quality.csv\u001b[39;49;00m\u001b[33m'\u001b[39;49;00m, newline=\u001b[33m'\u001b[39;49;00m\u001b[33m'\u001b[39;49;00m) \u001b[94mas\u001b[39;49;00m file:\u001b[90m\u001b[39;49;00m\n",
            "             reader = csv.reader(file)\u001b[90m\u001b[39;49;00m\n",
            "             row = \u001b[96mnext\u001b[39;49;00m(reader)\u001b[90m\u001b[39;49;00m\n",
            "             x, y = \u001b[96mmap\u001b[39;49;00m(\u001b[96mfloat\u001b[39;49;00m, row)\u001b[90m\u001b[39;49;00m\n",
            "    \u001b[90m\u001b[39;49;00m\n",
            ">        \u001b[94massert\u001b[39;49;00m x == expected_x\u001b[90m\u001b[39;49;00m\n",
            "\u001b[1m\u001b[31mE        assert 1.0040984640489807 == 0.8906094750144905\u001b[0m\n",
            "\n",
            "\u001b[1m\u001b[31mtest_models.py\u001b[0m:36: AssertionError\n",
            "\u001b[36m\u001b[1m=========================== short test summary info ============================\u001b[0m\n",
            "\u001b[31mFAILED\u001b[0m test_models.py::\u001b[1mtest_first_noise_model\u001b[0m - assert 0.8906094750144905 == 1.0040984640489807\n",
            "\u001b[31mFAILED\u001b[0m test_models.py::\u001b[1mtest_second_quality_model\u001b[0m - assert 1.0040984640489807 == 0.8906094750144905\n",
            "\u001b[31m========================= \u001b[31m\u001b[1m2 failed\u001b[0m, \u001b[32m2 passed\u001b[0m\u001b[31m in 0.12s\u001b[0m\u001b[31m ==========================\u001b[0m\n"
          ]
        }
      ]
    }
  ]
}